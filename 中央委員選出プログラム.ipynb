{
  "nbformat": 4,
  "nbformat_minor": 0,
  "metadata": {
    "colab": {
      "name": "中央委員選出プログラム.ipynb",
      "provenance": []
    },
    "kernelspec": {
      "name": "python3",
      "display_name": "Python 3"
    },
    "language_info": {
      "name": "python"
    }
  },
  "cells": [
    {
      "cell_type": "code",
      "metadata": {
        "id": "EBNC9JQzTpCy"
      },
      "source": [
        "import pandas as pd                                       "
      ],
      "execution_count": 1,
      "outputs": []
    },
    {
      "cell_type": "code",
      "metadata": {
        "id": "tnlv558HUBgg"
      },
      "source": [
        "# 従業員番号のリストの読み込み\n",
        "df = pd.read_csv('/content/list.csv', header = None, names=['ID'], index_col=False)\n",
        "# リストの出力\n",
        "print(df)"
      ],
      "execution_count": null,
      "outputs": []
    },
    {
      "cell_type": "code",
      "metadata": {
        "id": "Q-xtRf26Vj5B"
      },
      "source": [
        "# listの順番をシャッフル\n",
        "df.sample(frac=1).reset_index(drop=True)"
      ],
      "execution_count": null,
      "outputs": []
    },
    {
      "cell_type": "code",
      "metadata": {
        "id": "qBxHBHkRWfTd"
      },
      "source": [
        "# 従業員番号を一つ抽出\n",
        "print(df.sample())"
      ],
      "execution_count": null,
      "outputs": []
    }
  ]
}